{
  "nbformat": 4,
  "nbformat_minor": 0,
  "metadata": {
    "colab": {
      "name": "Normality_test.ipynb",
      "provenance": [],
      "authorship_tag": "ABX9TyPulWoiMPLHq1RRPw2sbCVR",
      "include_colab_link": true
    },
    "kernelspec": {
      "name": "python3",
      "display_name": "Python 3"
    },
    "language_info": {
      "name": "python"
    }
  },
  "cells": [
    {
      "cell_type": "markdown",
      "metadata": {
        "id": "view-in-github",
        "colab_type": "text"
      },
      "source": [
        "<a href=\"https://colab.research.google.com/github/omkar123katare/Normality_test/blob/main/Normality_test.ipynb\" target=\"_parent\"><img src=\"https://colab.research.google.com/assets/colab-badge.svg\" alt=\"Open In Colab\"/></a>"
      ]
    },
    {
      "cell_type": "markdown",
      "source": [
        "#***WHY?***\n",
        "\n",
        "**Which machine algorithms require data scaling/normalization?**\n",
        "\n",
        "All algorithms that are distance based require scaling. This includes all curve fitting algorithms (linear/non-linear regressions), logistic regression, KNN, SVM, Neural Networks, clustering algorithms like k-means clustering etc.\n",
        "\n",
        "Algorithms that are used for matrix factorization, decomposition or dimensionality reduction like PCA, SVD, Factorization Machines etc also require normalization.\n",
        "\n",
        "Algorithms that do not require normalization/scaling are the ones that rely on rules. They would not be affected by any monotonic transformations of the variables. Scaling is a monotonic transformation - the relative order of smaller to larger value in a variable is maintained post the scaling. Examples of algorithms in this category are all the tree based algorithms - CART, Random Forests, Gradient Boosted Decision Trees etc. These algorithms utilize rules (series of inequalities) and do not require normalization.\n",
        "\n",
        "Also, Algorithms that rely on distributions of the variables, like Naive Bayes also do not need scaling."
      ],
      "metadata": {
        "id": "G3uxtI-3IpQk"
      }
    },
    {
      "cell_type": "code",
      "execution_count": 1,
      "metadata": {
        "colab": {
          "base_uri": "https://localhost:8080/"
        },
        "id": "PUyyc2BZ9cDV",
        "outputId": "2870437a-8af7-4dd5-c03b-833800ff0a7e"
      },
      "outputs": [
        {
          "output_type": "stream",
          "name": "stderr",
          "text": [
            "/usr/local/lib/python3.7/dist-packages/statsmodels/tools/_testing.py:19: FutureWarning: pandas.util.testing is deprecated. Use the functions in the public API at pandas.testing instead.\n",
            "  import pandas.util.testing as tm\n"
          ]
        }
      ],
      "source": [
        "import pandas as pd\n",
        "import numpy as nl\n",
        "import seaborn as sns\n",
        "import matplotlib.pyplot as plt\n",
        "from scipy import stats\n",
        "import statsmodels.api as sm"
      ]
    },
    {
      "cell_type": "code",
      "source": [
        "marketing_df=pd.read_csv('https://raw.githubusercontent.com/srivatsan88/YouTubeLI/master/dataset/marketing_cva_f.csv')"
      ],
      "metadata": {
        "id": "bRefL5OI92Pa"
      },
      "execution_count": 2,
      "outputs": []
    },
    {
      "cell_type": "code",
      "source": [
        "marketing_df.head()"
      ],
      "metadata": {
        "colab": {
          "base_uri": "https://localhost:8080/",
          "height": 250
        },
        "id": "IID0L1tR-VvX",
        "outputId": "5310ee6c-a4f4-4d25-f147-52406ee7e1b8"
      },
      "execution_count": 3,
      "outputs": [
        {
          "output_type": "execute_result",
          "data": {
            "text/plain": [
              "  Customer       State           CLV Coverage  Income  loc_type  \\\n",
              "0  BU79786  Washington   2763.519279    Basic   56274  Suburban   \n",
              "1  AI49188      Nevada  12887.431650  Premium   48767  Suburban   \n",
              "2  HB64268  Washington   2813.692575    Basic   43836     Rural   \n",
              "3  OC83172      Oregon   8256.297800    Basic   62902     Rural   \n",
              "4  XZ87318      Oregon   5380.898636    Basic   55350  Suburban   \n",
              "\n",
              "   monthly_premium  months_last_claim  Months_Since_Policy_Inception  \\\n",
              "0               69                 32                              5   \n",
              "1              108                 18                             38   \n",
              "2               73                 12                             44   \n",
              "3               69                 14                             94   \n",
              "4               67                  0                             13   \n",
              "\n",
              "   Total_Claim_Amount  Vehicle_Class  avg_vehicle_age  \n",
              "0          384.811147   Two-Door Car        40.696695  \n",
              "1          566.472247   Two-Door Car        48.755298  \n",
              "2          138.130879  Four-Door Car        70.394474  \n",
              "3          159.383042   Two-Door Car        53.460212  \n",
              "4          321.600000  Four-Door Car        32.811507  "
            ],
            "text/html": [
              "\n",
              "  <div id=\"df-bbf96241-6d08-450b-8a36-0a64320a36f7\">\n",
              "    <div class=\"colab-df-container\">\n",
              "      <div>\n",
              "<style scoped>\n",
              "    .dataframe tbody tr th:only-of-type {\n",
              "        vertical-align: middle;\n",
              "    }\n",
              "\n",
              "    .dataframe tbody tr th {\n",
              "        vertical-align: top;\n",
              "    }\n",
              "\n",
              "    .dataframe thead th {\n",
              "        text-align: right;\n",
              "    }\n",
              "</style>\n",
              "<table border=\"1\" class=\"dataframe\">\n",
              "  <thead>\n",
              "    <tr style=\"text-align: right;\">\n",
              "      <th></th>\n",
              "      <th>Customer</th>\n",
              "      <th>State</th>\n",
              "      <th>CLV</th>\n",
              "      <th>Coverage</th>\n",
              "      <th>Income</th>\n",
              "      <th>loc_type</th>\n",
              "      <th>monthly_premium</th>\n",
              "      <th>months_last_claim</th>\n",
              "      <th>Months_Since_Policy_Inception</th>\n",
              "      <th>Total_Claim_Amount</th>\n",
              "      <th>Vehicle_Class</th>\n",
              "      <th>avg_vehicle_age</th>\n",
              "    </tr>\n",
              "  </thead>\n",
              "  <tbody>\n",
              "    <tr>\n",
              "      <th>0</th>\n",
              "      <td>BU79786</td>\n",
              "      <td>Washington</td>\n",
              "      <td>2763.519279</td>\n",
              "      <td>Basic</td>\n",
              "      <td>56274</td>\n",
              "      <td>Suburban</td>\n",
              "      <td>69</td>\n",
              "      <td>32</td>\n",
              "      <td>5</td>\n",
              "      <td>384.811147</td>\n",
              "      <td>Two-Door Car</td>\n",
              "      <td>40.696695</td>\n",
              "    </tr>\n",
              "    <tr>\n",
              "      <th>1</th>\n",
              "      <td>AI49188</td>\n",
              "      <td>Nevada</td>\n",
              "      <td>12887.431650</td>\n",
              "      <td>Premium</td>\n",
              "      <td>48767</td>\n",
              "      <td>Suburban</td>\n",
              "      <td>108</td>\n",
              "      <td>18</td>\n",
              "      <td>38</td>\n",
              "      <td>566.472247</td>\n",
              "      <td>Two-Door Car</td>\n",
              "      <td>48.755298</td>\n",
              "    </tr>\n",
              "    <tr>\n",
              "      <th>2</th>\n",
              "      <td>HB64268</td>\n",
              "      <td>Washington</td>\n",
              "      <td>2813.692575</td>\n",
              "      <td>Basic</td>\n",
              "      <td>43836</td>\n",
              "      <td>Rural</td>\n",
              "      <td>73</td>\n",
              "      <td>12</td>\n",
              "      <td>44</td>\n",
              "      <td>138.130879</td>\n",
              "      <td>Four-Door Car</td>\n",
              "      <td>70.394474</td>\n",
              "    </tr>\n",
              "    <tr>\n",
              "      <th>3</th>\n",
              "      <td>OC83172</td>\n",
              "      <td>Oregon</td>\n",
              "      <td>8256.297800</td>\n",
              "      <td>Basic</td>\n",
              "      <td>62902</td>\n",
              "      <td>Rural</td>\n",
              "      <td>69</td>\n",
              "      <td>14</td>\n",
              "      <td>94</td>\n",
              "      <td>159.383042</td>\n",
              "      <td>Two-Door Car</td>\n",
              "      <td>53.460212</td>\n",
              "    </tr>\n",
              "    <tr>\n",
              "      <th>4</th>\n",
              "      <td>XZ87318</td>\n",
              "      <td>Oregon</td>\n",
              "      <td>5380.898636</td>\n",
              "      <td>Basic</td>\n",
              "      <td>55350</td>\n",
              "      <td>Suburban</td>\n",
              "      <td>67</td>\n",
              "      <td>0</td>\n",
              "      <td>13</td>\n",
              "      <td>321.600000</td>\n",
              "      <td>Four-Door Car</td>\n",
              "      <td>32.811507</td>\n",
              "    </tr>\n",
              "  </tbody>\n",
              "</table>\n",
              "</div>\n",
              "      <button class=\"colab-df-convert\" onclick=\"convertToInteractive('df-bbf96241-6d08-450b-8a36-0a64320a36f7')\"\n",
              "              title=\"Convert this dataframe to an interactive table.\"\n",
              "              style=\"display:none;\">\n",
              "        \n",
              "  <svg xmlns=\"http://www.w3.org/2000/svg\" height=\"24px\"viewBox=\"0 0 24 24\"\n",
              "       width=\"24px\">\n",
              "    <path d=\"M0 0h24v24H0V0z\" fill=\"none\"/>\n",
              "    <path d=\"M18.56 5.44l.94 2.06.94-2.06 2.06-.94-2.06-.94-.94-2.06-.94 2.06-2.06.94zm-11 1L8.5 8.5l.94-2.06 2.06-.94-2.06-.94L8.5 2.5l-.94 2.06-2.06.94zm10 10l.94 2.06.94-2.06 2.06-.94-2.06-.94-.94-2.06-.94 2.06-2.06.94z\"/><path d=\"M17.41 7.96l-1.37-1.37c-.4-.4-.92-.59-1.43-.59-.52 0-1.04.2-1.43.59L10.3 9.45l-7.72 7.72c-.78.78-.78 2.05 0 2.83L4 21.41c.39.39.9.59 1.41.59.51 0 1.02-.2 1.41-.59l7.78-7.78 2.81-2.81c.8-.78.8-2.07 0-2.86zM5.41 20L4 18.59l7.72-7.72 1.47 1.35L5.41 20z\"/>\n",
              "  </svg>\n",
              "      </button>\n",
              "      \n",
              "  <style>\n",
              "    .colab-df-container {\n",
              "      display:flex;\n",
              "      flex-wrap:wrap;\n",
              "      gap: 12px;\n",
              "    }\n",
              "\n",
              "    .colab-df-convert {\n",
              "      background-color: #E8F0FE;\n",
              "      border: none;\n",
              "      border-radius: 50%;\n",
              "      cursor: pointer;\n",
              "      display: none;\n",
              "      fill: #1967D2;\n",
              "      height: 32px;\n",
              "      padding: 0 0 0 0;\n",
              "      width: 32px;\n",
              "    }\n",
              "\n",
              "    .colab-df-convert:hover {\n",
              "      background-color: #E2EBFA;\n",
              "      box-shadow: 0px 1px 2px rgba(60, 64, 67, 0.3), 0px 1px 3px 1px rgba(60, 64, 67, 0.15);\n",
              "      fill: #174EA6;\n",
              "    }\n",
              "\n",
              "    [theme=dark] .colab-df-convert {\n",
              "      background-color: #3B4455;\n",
              "      fill: #D2E3FC;\n",
              "    }\n",
              "\n",
              "    [theme=dark] .colab-df-convert:hover {\n",
              "      background-color: #434B5C;\n",
              "      box-shadow: 0px 1px 3px 1px rgba(0, 0, 0, 0.15);\n",
              "      filter: drop-shadow(0px 1px 2px rgba(0, 0, 0, 0.3));\n",
              "      fill: #FFFFFF;\n",
              "    }\n",
              "  </style>\n",
              "\n",
              "      <script>\n",
              "        const buttonEl =\n",
              "          document.querySelector('#df-bbf96241-6d08-450b-8a36-0a64320a36f7 button.colab-df-convert');\n",
              "        buttonEl.style.display =\n",
              "          google.colab.kernel.accessAllowed ? 'block' : 'none';\n",
              "\n",
              "        async function convertToInteractive(key) {\n",
              "          const element = document.querySelector('#df-bbf96241-6d08-450b-8a36-0a64320a36f7');\n",
              "          const dataTable =\n",
              "            await google.colab.kernel.invokeFunction('convertToInteractive',\n",
              "                                                     [key], {});\n",
              "          if (!dataTable) return;\n",
              "\n",
              "          const docLinkHtml = 'Like what you see? Visit the ' +\n",
              "            '<a target=\"_blank\" href=https://colab.research.google.com/notebooks/data_table.ipynb>data table notebook</a>'\n",
              "            + ' to learn more about interactive tables.';\n",
              "          element.innerHTML = '';\n",
              "          dataTable['output_type'] = 'display_data';\n",
              "          await google.colab.output.renderOutput(dataTable, element);\n",
              "          const docLink = document.createElement('div');\n",
              "          docLink.innerHTML = docLinkHtml;\n",
              "          element.appendChild(docLink);\n",
              "        }\n",
              "      </script>\n",
              "    </div>\n",
              "  </div>\n",
              "  "
            ]
          },
          "metadata": {},
          "execution_count": 3
        }
      ]
    },
    {
      "cell_type": "markdown",
      "source": [
        "Transaformations can be applied to convert non-normal data into normal data"
      ],
      "metadata": {
        "id": "206_j_G0-9J9"
      }
    },
    {
      "cell_type": "code",
      "source": [
        "marketing_df.describe()"
      ],
      "metadata": {
        "colab": {
          "base_uri": "https://localhost:8080/",
          "height": 300
        },
        "id": "TR7nVen8-W8o",
        "outputId": "dc0664d6-b19e-4f8a-b736-bb6f1eb930ed"
      },
      "execution_count": 4,
      "outputs": [
        {
          "output_type": "execute_result",
          "data": {
            "text/plain": [
              "                CLV        Income  monthly_premium  months_last_claim  \\\n",
              "count   6817.000000   6817.000000      6817.000000        6817.000000   \n",
              "mean    8130.229340  50456.580461        92.963034          15.046941   \n",
              "std     6949.067972  24305.956566        34.615160          10.064762   \n",
              "min     2119.894333  10037.000000        61.000000           0.000000   \n",
              "25%     4090.750678  28432.000000        68.000000           6.000000   \n",
              "50%     5810.630529  48081.000000        83.000000          14.000000   \n",
              "75%     9075.768214  70187.000000       109.000000          23.000000   \n",
              "max    83325.381190  99981.000000       297.000000          35.000000   \n",
              "\n",
              "       Months_Since_Policy_Inception  Total_Claim_Amount  avg_vehicle_age  \n",
              "count                    6817.000000         6817.000000      6817.000000  \n",
              "mean                       47.832624          377.840789        50.126257  \n",
              "std                        27.895350          252.648952         9.919767  \n",
              "min                         0.000000            0.099007        11.875974  \n",
              "25%                        24.000000          210.100003        43.449925  \n",
              "50%                        48.000000          340.800000        50.100924  \n",
              "75%                        71.000000          498.612632        56.877234  \n",
              "max                        99.000000         2893.239678        83.387485  "
            ],
            "text/html": [
              "\n",
              "  <div id=\"df-940a4df2-8351-4935-9449-81a10ea70325\">\n",
              "    <div class=\"colab-df-container\">\n",
              "      <div>\n",
              "<style scoped>\n",
              "    .dataframe tbody tr th:only-of-type {\n",
              "        vertical-align: middle;\n",
              "    }\n",
              "\n",
              "    .dataframe tbody tr th {\n",
              "        vertical-align: top;\n",
              "    }\n",
              "\n",
              "    .dataframe thead th {\n",
              "        text-align: right;\n",
              "    }\n",
              "</style>\n",
              "<table border=\"1\" class=\"dataframe\">\n",
              "  <thead>\n",
              "    <tr style=\"text-align: right;\">\n",
              "      <th></th>\n",
              "      <th>CLV</th>\n",
              "      <th>Income</th>\n",
              "      <th>monthly_premium</th>\n",
              "      <th>months_last_claim</th>\n",
              "      <th>Months_Since_Policy_Inception</th>\n",
              "      <th>Total_Claim_Amount</th>\n",
              "      <th>avg_vehicle_age</th>\n",
              "    </tr>\n",
              "  </thead>\n",
              "  <tbody>\n",
              "    <tr>\n",
              "      <th>count</th>\n",
              "      <td>6817.000000</td>\n",
              "      <td>6817.000000</td>\n",
              "      <td>6817.000000</td>\n",
              "      <td>6817.000000</td>\n",
              "      <td>6817.000000</td>\n",
              "      <td>6817.000000</td>\n",
              "      <td>6817.000000</td>\n",
              "    </tr>\n",
              "    <tr>\n",
              "      <th>mean</th>\n",
              "      <td>8130.229340</td>\n",
              "      <td>50456.580461</td>\n",
              "      <td>92.963034</td>\n",
              "      <td>15.046941</td>\n",
              "      <td>47.832624</td>\n",
              "      <td>377.840789</td>\n",
              "      <td>50.126257</td>\n",
              "    </tr>\n",
              "    <tr>\n",
              "      <th>std</th>\n",
              "      <td>6949.067972</td>\n",
              "      <td>24305.956566</td>\n",
              "      <td>34.615160</td>\n",
              "      <td>10.064762</td>\n",
              "      <td>27.895350</td>\n",
              "      <td>252.648952</td>\n",
              "      <td>9.919767</td>\n",
              "    </tr>\n",
              "    <tr>\n",
              "      <th>min</th>\n",
              "      <td>2119.894333</td>\n",
              "      <td>10037.000000</td>\n",
              "      <td>61.000000</td>\n",
              "      <td>0.000000</td>\n",
              "      <td>0.000000</td>\n",
              "      <td>0.099007</td>\n",
              "      <td>11.875974</td>\n",
              "    </tr>\n",
              "    <tr>\n",
              "      <th>25%</th>\n",
              "      <td>4090.750678</td>\n",
              "      <td>28432.000000</td>\n",
              "      <td>68.000000</td>\n",
              "      <td>6.000000</td>\n",
              "      <td>24.000000</td>\n",
              "      <td>210.100003</td>\n",
              "      <td>43.449925</td>\n",
              "    </tr>\n",
              "    <tr>\n",
              "      <th>50%</th>\n",
              "      <td>5810.630529</td>\n",
              "      <td>48081.000000</td>\n",
              "      <td>83.000000</td>\n",
              "      <td>14.000000</td>\n",
              "      <td>48.000000</td>\n",
              "      <td>340.800000</td>\n",
              "      <td>50.100924</td>\n",
              "    </tr>\n",
              "    <tr>\n",
              "      <th>75%</th>\n",
              "      <td>9075.768214</td>\n",
              "      <td>70187.000000</td>\n",
              "      <td>109.000000</td>\n",
              "      <td>23.000000</td>\n",
              "      <td>71.000000</td>\n",
              "      <td>498.612632</td>\n",
              "      <td>56.877234</td>\n",
              "    </tr>\n",
              "    <tr>\n",
              "      <th>max</th>\n",
              "      <td>83325.381190</td>\n",
              "      <td>99981.000000</td>\n",
              "      <td>297.000000</td>\n",
              "      <td>35.000000</td>\n",
              "      <td>99.000000</td>\n",
              "      <td>2893.239678</td>\n",
              "      <td>83.387485</td>\n",
              "    </tr>\n",
              "  </tbody>\n",
              "</table>\n",
              "</div>\n",
              "      <button class=\"colab-df-convert\" onclick=\"convertToInteractive('df-940a4df2-8351-4935-9449-81a10ea70325')\"\n",
              "              title=\"Convert this dataframe to an interactive table.\"\n",
              "              style=\"display:none;\">\n",
              "        \n",
              "  <svg xmlns=\"http://www.w3.org/2000/svg\" height=\"24px\"viewBox=\"0 0 24 24\"\n",
              "       width=\"24px\">\n",
              "    <path d=\"M0 0h24v24H0V0z\" fill=\"none\"/>\n",
              "    <path d=\"M18.56 5.44l.94 2.06.94-2.06 2.06-.94-2.06-.94-.94-2.06-.94 2.06-2.06.94zm-11 1L8.5 8.5l.94-2.06 2.06-.94-2.06-.94L8.5 2.5l-.94 2.06-2.06.94zm10 10l.94 2.06.94-2.06 2.06-.94-2.06-.94-.94-2.06-.94 2.06-2.06.94z\"/><path d=\"M17.41 7.96l-1.37-1.37c-.4-.4-.92-.59-1.43-.59-.52 0-1.04.2-1.43.59L10.3 9.45l-7.72 7.72c-.78.78-.78 2.05 0 2.83L4 21.41c.39.39.9.59 1.41.59.51 0 1.02-.2 1.41-.59l7.78-7.78 2.81-2.81c.8-.78.8-2.07 0-2.86zM5.41 20L4 18.59l7.72-7.72 1.47 1.35L5.41 20z\"/>\n",
              "  </svg>\n",
              "      </button>\n",
              "      \n",
              "  <style>\n",
              "    .colab-df-container {\n",
              "      display:flex;\n",
              "      flex-wrap:wrap;\n",
              "      gap: 12px;\n",
              "    }\n",
              "\n",
              "    .colab-df-convert {\n",
              "      background-color: #E8F0FE;\n",
              "      border: none;\n",
              "      border-radius: 50%;\n",
              "      cursor: pointer;\n",
              "      display: none;\n",
              "      fill: #1967D2;\n",
              "      height: 32px;\n",
              "      padding: 0 0 0 0;\n",
              "      width: 32px;\n",
              "    }\n",
              "\n",
              "    .colab-df-convert:hover {\n",
              "      background-color: #E2EBFA;\n",
              "      box-shadow: 0px 1px 2px rgba(60, 64, 67, 0.3), 0px 1px 3px 1px rgba(60, 64, 67, 0.15);\n",
              "      fill: #174EA6;\n",
              "    }\n",
              "\n",
              "    [theme=dark] .colab-df-convert {\n",
              "      background-color: #3B4455;\n",
              "      fill: #D2E3FC;\n",
              "    }\n",
              "\n",
              "    [theme=dark] .colab-df-convert:hover {\n",
              "      background-color: #434B5C;\n",
              "      box-shadow: 0px 1px 3px 1px rgba(0, 0, 0, 0.15);\n",
              "      filter: drop-shadow(0px 1px 2px rgba(0, 0, 0, 0.3));\n",
              "      fill: #FFFFFF;\n",
              "    }\n",
              "  </style>\n",
              "\n",
              "      <script>\n",
              "        const buttonEl =\n",
              "          document.querySelector('#df-940a4df2-8351-4935-9449-81a10ea70325 button.colab-df-convert');\n",
              "        buttonEl.style.display =\n",
              "          google.colab.kernel.accessAllowed ? 'block' : 'none';\n",
              "\n",
              "        async function convertToInteractive(key) {\n",
              "          const element = document.querySelector('#df-940a4df2-8351-4935-9449-81a10ea70325');\n",
              "          const dataTable =\n",
              "            await google.colab.kernel.invokeFunction('convertToInteractive',\n",
              "                                                     [key], {});\n",
              "          if (!dataTable) return;\n",
              "\n",
              "          const docLinkHtml = 'Like what you see? Visit the ' +\n",
              "            '<a target=\"_blank\" href=https://colab.research.google.com/notebooks/data_table.ipynb>data table notebook</a>'\n",
              "            + ' to learn more about interactive tables.';\n",
              "          element.innerHTML = '';\n",
              "          dataTable['output_type'] = 'display_data';\n",
              "          await google.colab.output.renderOutput(dataTable, element);\n",
              "          const docLink = document.createElement('div');\n",
              "          docLink.innerHTML = docLinkHtml;\n",
              "          element.appendChild(docLink);\n",
              "        }\n",
              "      </script>\n",
              "    </div>\n",
              "  </div>\n",
              "  "
            ]
          },
          "metadata": {},
          "execution_count": 4
        }
      ]
    },
    {
      "cell_type": "markdown",
      "source": [
        "##**Checking for avg_vehicle_age column**"
      ],
      "metadata": {
        "id": "PA5-d7aB34SD"
      }
    },
    {
      "cell_type": "markdown",
      "source": [
        "**Is this column normally distributed?**\n",
        "\n",
        "***Method1 :***\n",
        "\n",
        "avg_vehicle_age is a continuoud variable. From describe method, we can see that mean of thais column is 50.12 and median of this column is 50.10 . Both mean and median are aproximately same, hence we can conclude that this column is normally distributed."
      ],
      "metadata": {
        "id": "-byLp4sgd9Ut"
      }
    },
    {
      "cell_type": "markdown",
      "source": [
        "***Method2 :***"
      ],
      "metadata": {
        "id": "dugwioW3e5Oh"
      }
    },
    {
      "cell_type": "code",
      "source": [
        "sns.distplot(marketing_df['avg_vehicle_age'],hist=True)"
      ],
      "metadata": {
        "colab": {
          "base_uri": "https://localhost:8080/",
          "height": 352
        },
        "id": "w2ezl0pUdnoJ",
        "outputId": "afedc108-d718-4182-b846-4c5ce652e688"
      },
      "execution_count": 5,
      "outputs": [
        {
          "output_type": "stream",
          "name": "stderr",
          "text": [
            "/usr/local/lib/python3.7/dist-packages/seaborn/distributions.py:2619: FutureWarning: `distplot` is a deprecated function and will be removed in a future version. Please adapt your code to use either `displot` (a figure-level function with similar flexibility) or `histplot` (an axes-level function for histograms).\n",
            "  warnings.warn(msg, FutureWarning)\n"
          ]
        },
        {
          "output_type": "execute_result",
          "data": {
            "text/plain": [
              "<matplotlib.axes._subplots.AxesSubplot at 0x7f1a1b7dc1d0>"
            ]
          },
          "metadata": {},
          "execution_count": 5
        },
        {
          "output_type": "display_data",
          "data": {
            "text/plain": [
              "<Figure size 432x288 with 1 Axes>"
            ],
            "image/png": "[encoded data removed]"
          },
          "metadata": {
            "needs_background": "light"
          }
        }
      ]
    },
    {
      "cell_type": "markdown",
      "source": [
        "***Method3 :***\n",
        "\n",
        "q-q (Quntile-Quantile plot):\n",
        "\n",
        "1. This is a probability plot. This plot is used for graphically comparing two probability distributions by plotting the qualtiles of the underlying data.\n",
        "\n",
        "2. Red line is the reference line. We are plotting different quantile values with blue dots based on our data. If the quantiles based on our continuous column fall on reference line, our column is considered to be normally distributed.\n",
        "\n",
        "3. If the points deviate from the reference line, the column is not normally distributed."
      ],
      "metadata": {
        "id": "_KDeI4yKe-UA"
      }
    },
    {
      "cell_type": "code",
      "source": [
        "plot=sm.qqplot(marketing_df['avg_vehicle_age'], line=\"45\",fit=True)"
      ],
      "metadata": {
        "colab": {
          "base_uri": "https://localhost:8080/",
          "height": 279
        },
        "id": "z0zDeElJd8FW",
        "outputId": "ee5ced44-2920-4114-ab13-3de20b0685e5"
      },
      "execution_count": 10,
      "outputs": [
        {
          "output_type": "display_data",
          "data": {
            "text/plain": [
              "<Figure size 432x288 with 1 Axes>"
            ],
            "image/png": "[encoded data removed]"
          },
          "metadata": {
            "needs_background": "light"
          }
        }
      ]
    },
    {
      "cell_type": "markdown",
      "source": [
        "***Method4 :***\n",
        "\n",
        "Using boxplot. If the boxplot is distributed symmetrically around the mean value, we can say that the numerical column follows a normal distribution."
      ],
      "metadata": {
        "id": "6B7AiAL3gy5i"
      }
    },
    {
      "cell_type": "code",
      "source": [
        "plt.figure(figsize=(15,5))\n",
        "sns.boxplot(data=marketing_df,x='avg_vehicle_age')"
      ],
      "metadata": {
        "colab": {
          "base_uri": "https://localhost:8080/",
          "height": 352
        },
        "id": "fNlv67vifS1h",
        "outputId": "6b1d5b3b-8730-4029-bc17-b0b77bf8372d"
      },
      "execution_count": 11,
      "outputs": [
        {
          "output_type": "execute_result",
          "data": {
            "text/plain": [
              "<matplotlib.axes._subplots.AxesSubplot at 0x7f1a18930710>"
            ]
          },
          "metadata": {},
          "execution_count": 11
        },
        {
          "output_type": "display_data",
          "data": {
            "text/plain": [
              "<Figure size 1080x360 with 1 Axes>"
            ],
            "image/png": "[encoded data removed]"
          },
          "metadata": {
            "needs_background": "light"
          }
        }
      ]
    },
    {
      "cell_type": "markdown",
      "source": [
        "***Method 5: Statistical Test method to verify if the column is truly normally distributed or not.***"
      ],
      "metadata": {
        "id": "cxtnG3YfhiMn"
      }
    },
    {
      "cell_type": "markdown",
      "source": [
        "***Test 1 : Normal Test***"
      ],
      "metadata": {
        "id": "CK-QX59jtERV"
      }
    },
    {
      "cell_type": "markdown",
      "source": [
        "**Null Hypothesis :** sample data came from a normal distribution (p>0.05)\n",
        "\n",
        "\n",
        "**Alternate Hypothesis :**sample data did not come form a normal distribution (p<0.05)"
      ],
      "metadata": {
        "id": "4cwfopJmqgCf"
      }
    },
    {
      "cell_type": "code",
      "source": [
        "chi2,p=stats.normaltest(marketing_df['avg_vehicle_age'])"
      ],
      "metadata": {
        "id": "amMgB4l1hQtu"
      },
      "execution_count": 12,
      "outputs": []
    },
    {
      "cell_type": "code",
      "source": [
        "print(p)"
      ],
      "metadata": {
        "colab": {
          "base_uri": "https://localhost:8080/"
        },
        "id": "ktAecVgfsH6o",
        "outputId": "ef51d035-c203-4792-8e13-9e922cfc2fdc"
      },
      "execution_count": 13,
      "outputs": [
        {
          "output_type": "stream",
          "name": "stdout",
          "text": [
            "0.5931827357362212\n"
          ]
        }
      ]
    },
    {
      "cell_type": "markdown",
      "source": [
        "p value is way more than 0.05\n",
        "\n",
        "(p>0.05)\n",
        "\n",
        "Hence, Null hypothesis is true.\n",
        "\n",
        "Sample data came from a normal distribution."
      ],
      "metadata": {
        "id": "5k8DVniiscGL"
      }
    },
    {
      "cell_type": "markdown",
      "source": [
        "***Test 2 : Andeson Normality Test***\n",
        "\n",
        "This test checks if sample data came form a specific distribution. Here we are checking if data came from normal distribution."
      ],
      "metadata": {
        "id": "Rqp3FadWtHG1"
      }
    },
    {
      "cell_type": "markdown",
      "source": [
        "**Null Hypothesis :** sample data came from the selected distribution (p>0.05)\n",
        "\n",
        "\n",
        "**Alternate Hypothesis :**sample data did not come form the selected distribution (p<0.05)"
      ],
      "metadata": {
        "id": "rEFBIVabuAu7"
      }
    },
    {
      "cell_type": "code",
      "source": [
        "stats.anderson(marketing_df['avg_vehicle_age'],dist='norm')"
      ],
      "metadata": {
        "colab": {
          "base_uri": "https://localhost:8080/"
        },
        "id": "3e0vP4GBsJOm",
        "outputId": "20b0a8a1-fab7-4b1b-986b-a70fdabe9df2"
      },
      "execution_count": 15,
      "outputs": [
        {
          "output_type": "execute_result",
          "data": {
            "text/plain": [
              "AndersonResult(statistic=0.38327277704684093, critical_values=array([0.576, 0.656, 0.787, 0.917, 1.091]), significance_level=array([15. , 10. ,  5. ,  2.5,  1. ]))"
            ]
          },
          "metadata": {},
          "execution_count": 15
        }
      ]
    },
    {
      "cell_type": "markdown",
      "source": [
        "For 5% significance level, \n",
        "\n",
        "0.787 > 0.38 Hence null hypothesis is true."
      ],
      "metadata": {
        "id": "XzYOPZoBuV7w"
      }
    },
    {
      "cell_type": "markdown",
      "source": [
        "###***How do you Transaform a non normal distribution of dependent variable into a normal distribution?***\n",
        "***Using a boxcox transformation***"
      ],
      "metadata": {
        "id": "chKg6rwKu6uC"
      }
    },
    {
      "cell_type": "markdown",
      "source": [
        "**But why?**\n",
        "\n",
        "Some statisticl techniques need your data to be normally sistributed in order to apply them. \n",
        "\n",
        "Some ML algorithms also required your numerical column to be normally distributed in order to apply them.\n",
        "\n",
        "So, in case the continuous column is not normally distributed, we do boxcox transaformation to transaform the column into normal distribution. **and then use those statistical techniques and machine learning algorithms.**"
      ],
      "metadata": {
        "id": "Gkl0vyM_vY7w"
      }
    },
    {
      "cell_type": "code",
      "source": [
        "transformed,Lambda=stats.boxcox(marketing_df['avg_vehicle_age'])"
      ],
      "metadata": {
        "id": "X7COLKA9tYcn"
      },
      "execution_count": 22,
      "outputs": []
    },
    {
      "cell_type": "code",
      "source": [
        "# transaformed directly gives transformed column\n",
        "# lambda value suggests required tranformation"
      ],
      "metadata": {
        "id": "UvGvw7zgyMgD"
      },
      "execution_count": 26,
      "outputs": []
    },
    {
      "cell_type": "code",
      "source": [
        "Lambda"
      ],
      "metadata": {
        "colab": {
          "base_uri": "https://localhost:8080/"
        },
        "id": "rF-WIfBFxGu7",
        "outputId": "86a49f12-930e-43de-a49c-9c07ef5127db"
      },
      "execution_count": 25,
      "outputs": [
        {
          "output_type": "execute_result",
          "data": {
            "text/plain": [
              "1.0401663194162196"
            ]
          },
          "metadata": {},
          "execution_count": 25
        }
      ]
    },
    {
      "cell_type": "markdown",
      "source": [
        "![ARIMA_Plot_4.jpg](data:image/jpeg;base64,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)"
      ],
      "metadata": {
        "id": "aO6UI8EiyDqZ"
      }
    },
    {
      "cell_type": "code",
      "source": [
        "transformed"
      ],
      "metadata": {
        "colab": {
          "base_uri": "https://localhost:8080/"
        },
        "id": "5buB8Pmtwb62",
        "outputId": "014c5aab-6fd6-41f3-fa1a-84b769b6e52a"
      },
      "execution_count": 23,
      "outputs": [
        {
          "output_type": "execute_result",
          "data": {
            "text/plain": [
              "array([44.44390147, 53.83105644, 79.32549941, ..., 73.30261186,\n",
              "       52.95181951, 49.62516631])"
            ]
          },
          "metadata": {},
          "execution_count": 23
        }
      ]
    },
    {
      "cell_type": "code",
      "source": [
        "plot=sm.qqplot(transformed, line=\"45\",fit=True)"
      ],
      "metadata": {
        "colab": {
          "base_uri": "https://localhost:8080/",
          "height": 279
        },
        "id": "5wrI3GCuwfdb",
        "outputId": "677e198a-db2e-4928-c0b6-ed7662bb08f7"
      },
      "execution_count": 24,
      "outputs": [
        {
          "output_type": "display_data",
          "data": {
            "text/plain": [
              "<Figure size 432x288 with 1 Axes>"
            ],
            "image/png": "[encoded data removed]"
          },
          "metadata": {
            "needs_background": "light"
          }
        }
      ]
    },
    {
      "cell_type": "markdown",
      "source": [
        "##**Checking for income column**"
      ],
      "metadata": {
        "id": "GfIbD-PK4AR_"
      }
    },
    {
      "cell_type": "markdown",
      "source": [
        "***Method 1:***"
      ],
      "metadata": {
        "id": "GA_DA1KA4GoO"
      }
    },
    {
      "cell_type": "code",
      "source": [
        "marketing_df.describe()"
      ],
      "metadata": {
        "colab": {
          "base_uri": "https://localhost:8080/",
          "height": 300
        },
        "id": "tbfkNQPKwuXE",
        "outputId": "577d0c08-c6c3-42b3-9774-4d899f68beb0"
      },
      "execution_count": 27,
      "outputs": [
        {
          "output_type": "execute_result",
          "data": {
            "text/plain": [
              "                CLV        Income  monthly_premium  months_last_claim  \\\n",
              "count   6817.000000   6817.000000      6817.000000        6817.000000   \n",
              "mean    8130.229340  50456.580461        92.963034          15.046941   \n",
              "std     6949.067972  24305.956566        34.615160          10.064762   \n",
              "min     2119.894333  10037.000000        61.000000           0.000000   \n",
              "25%     4090.750678  28432.000000        68.000000           6.000000   \n",
              "50%     5810.630529  48081.000000        83.000000          14.000000   \n",
              "75%     9075.768214  70187.000000       109.000000          23.000000   \n",
              "max    83325.381190  99981.000000       297.000000          35.000000   \n",
              "\n",
              "       Months_Since_Policy_Inception  Total_Claim_Amount  avg_vehicle_age  \n",
              "count                    6817.000000         6817.000000      6817.000000  \n",
              "mean                       47.832624          377.840789        50.126257  \n",
              "std                        27.895350          252.648952         9.919767  \n",
              "min                         0.000000            0.099007        11.875974  \n",
              "25%                        24.000000          210.100003        43.449925  \n",
              "50%                        48.000000          340.800000        50.100924  \n",
              "75%                        71.000000          498.612632        56.877234  \n",
              "max                        99.000000         2893.239678        83.387485  "
            ],
            "text/html": [
              "\n",
              "  <div id=\"df-3a5a9b9d-7ca3-45de-a3fe-6b9dcb09ae51\">\n",
              "    <div class=\"colab-df-container\">\n",
              "      <div>\n",
              "<style scoped>\n",
              "    .dataframe tbody tr th:only-of-type {\n",
              "        vertical-align: middle;\n",
              "    }\n",
              "\n",
              "    .dataframe tbody tr th {\n",
              "        vertical-align: top;\n",
              "    }\n",
              "\n",
              "    .dataframe thead th {\n",
              "        text-align: right;\n",
              "    }\n",
              "</style>\n",
              "<table border=\"1\" class=\"dataframe\">\n",
              "  <thead>\n",
              "    <tr style=\"text-align: right;\">\n",
              "      <th></th>\n",
              "      <th>CLV</th>\n",
              "      <th>Income</th>\n",
              "      <th>monthly_premium</th>\n",
              "      <th>months_last_claim</th>\n",
              "      <th>Months_Since_Policy_Inception</th>\n",
              "      <th>Total_Claim_Amount</th>\n",
              "      <th>avg_vehicle_age</th>\n",
              "    </tr>\n",
              "  </thead>\n",
              "  <tbody>\n",
              "    <tr>\n",
              "      <th>count</th>\n",
              "      <td>6817.000000</td>\n",
              "      <td>6817.000000</td>\n",
              "      <td>6817.000000</td>\n",
              "      <td>6817.000000</td>\n",
              "      <td>6817.000000</td>\n",
              "      <td>6817.000000</td>\n",
              "      <td>6817.000000</td>\n",
              "    </tr>\n",
              "    <tr>\n",
              "      <th>mean</th>\n",
              "      <td>8130.229340</td>\n",
              "      <td>50456.580461</td>\n",
              "      <td>92.963034</td>\n",
              "      <td>15.046941</td>\n",
              "      <td>47.832624</td>\n",
              "      <td>377.840789</td>\n",
              "      <td>50.126257</td>\n",
              "    </tr>\n",
              "    <tr>\n",
              "      <th>std</th>\n",
              "      <td>6949.067972</td>\n",
              "      <td>24305.956566</td>\n",
              "      <td>34.615160</td>\n",
              "      <td>10.064762</td>\n",
              "      <td>27.895350</td>\n",
              "      <td>252.648952</td>\n",
              "      <td>9.919767</td>\n",
              "    </tr>\n",
              "    <tr>\n",
              "      <th>min</th>\n",
              "      <td>2119.894333</td>\n",
              "      <td>10037.000000</td>\n",
              "      <td>61.000000</td>\n",
              "      <td>0.000000</td>\n",
              "      <td>0.000000</td>\n",
              "      <td>0.099007</td>\n",
              "      <td>11.875974</td>\n",
              "    </tr>\n",
              "    <tr>\n",
              "      <th>25%</th>\n",
              "      <td>4090.750678</td>\n",
              "      <td>28432.000000</td>\n",
              "      <td>68.000000</td>\n",
              "      <td>6.000000</td>\n",
              "      <td>24.000000</td>\n",
              "      <td>210.100003</td>\n",
              "      <td>43.449925</td>\n",
              "    </tr>\n",
              "    <tr>\n",
              "      <th>50%</th>\n",
              "      <td>5810.630529</td>\n",
              "      <td>48081.000000</td>\n",
              "      <td>83.000000</td>\n",
              "      <td>14.000000</td>\n",
              "      <td>48.000000</td>\n",
              "      <td>340.800000</td>\n",
              "      <td>50.100924</td>\n",
              "    </tr>\n",
              "    <tr>\n",
              "      <th>75%</th>\n",
              "      <td>9075.768214</td>\n",
              "      <td>70187.000000</td>\n",
              "      <td>109.000000</td>\n",
              "      <td>23.000000</td>\n",
              "      <td>71.000000</td>\n",
              "      <td>498.612632</td>\n",
              "      <td>56.877234</td>\n",
              "    </tr>\n",
              "    <tr>\n",
              "      <th>max</th>\n",
              "      <td>83325.381190</td>\n",
              "      <td>99981.000000</td>\n",
              "      <td>297.000000</td>\n",
              "      <td>35.000000</td>\n",
              "      <td>99.000000</td>\n",
              "      <td>2893.239678</td>\n",
              "      <td>83.387485</td>\n",
              "    </tr>\n",
              "  </tbody>\n",
              "</table>\n",
              "</div>\n",
              "      <button class=\"colab-df-convert\" onclick=\"convertToInteractive('df-3a5a9b9d-7ca3-45de-a3fe-6b9dcb09ae51')\"\n",
              "              title=\"Convert this dataframe to an interactive table.\"\n",
              "              style=\"display:none;\">\n",
              "        \n",
              "  <svg xmlns=\"http://www.w3.org/2000/svg\" height=\"24px\"viewBox=\"0 0 24 24\"\n",
              "       width=\"24px\">\n",
              "    <path d=\"M0 0h24v24H0V0z\" fill=\"none\"/>\n",
              "    <path d=\"M18.56 5.44l.94 2.06.94-2.06 2.06-.94-2.06-.94-.94-2.06-.94 2.06-2.06.94zm-11 1L8.5 8.5l.94-2.06 2.06-.94-2.06-.94L8.5 2.5l-.94 2.06-2.06.94zm10 10l.94 2.06.94-2.06 2.06-.94-2.06-.94-.94-2.06-.94 2.06-2.06.94z\"/><path d=\"M17.41 7.96l-1.37-1.37c-.4-.4-.92-.59-1.43-.59-.52 0-1.04.2-1.43.59L10.3 9.45l-7.72 7.72c-.78.78-.78 2.05 0 2.83L4 21.41c.39.39.9.59 1.41.59.51 0 1.02-.2 1.41-.59l7.78-7.78 2.81-2.81c.8-.78.8-2.07 0-2.86zM5.41 20L4 18.59l7.72-7.72 1.47 1.35L5.41 20z\"/>\n",
              "  </svg>\n",
              "      </button>\n",
              "      \n",
              "  <style>\n",
              "    .colab-df-container {\n",
              "      display:flex;\n",
              "      flex-wrap:wrap;\n",
              "      gap: 12px;\n",
              "    }\n",
              "\n",
              "    .colab-df-convert {\n",
              "      background-color: #E8F0FE;\n",
              "      border: none;\n",
              "      border-radius: 50%;\n",
              "      cursor: pointer;\n",
              "      display: none;\n",
              "      fill: #1967D2;\n",
              "      height: 32px;\n",
              "      padding: 0 0 0 0;\n",
              "      width: 32px;\n",
              "    }\n",
              "\n",
              "    .colab-df-convert:hover {\n",
              "      background-color: #E2EBFA;\n",
              "      box-shadow: 0px 1px 2px rgba(60, 64, 67, 0.3), 0px 1px 3px 1px rgba(60, 64, 67, 0.15);\n",
              "      fill: #174EA6;\n",
              "    }\n",
              "\n",
              "    [theme=dark] .colab-df-convert {\n",
              "      background-color: #3B4455;\n",
              "      fill: #D2E3FC;\n",
              "    }\n",
              "\n",
              "    [theme=dark] .colab-df-convert:hover {\n",
              "      background-color: #434B5C;\n",
              "      box-shadow: 0px 1px 3px 1px rgba(0, 0, 0, 0.15);\n",
              "      filter: drop-shadow(0px 1px 2px rgba(0, 0, 0, 0.3));\n",
              "      fill: #FFFFFF;\n",
              "    }\n",
              "  </style>\n",
              "\n",
              "      <script>\n",
              "        const buttonEl =\n",
              "          document.querySelector('#df-3a5a9b9d-7ca3-45de-a3fe-6b9dcb09ae51 button.colab-df-convert');\n",
              "        buttonEl.style.display =\n",
              "          google.colab.kernel.accessAllowed ? 'block' : 'none';\n",
              "\n",
              "        async function convertToInteractive(key) {\n",
              "          const element = document.querySelector('#df-3a5a9b9d-7ca3-45de-a3fe-6b9dcb09ae51');\n",
              "          const dataTable =\n",
              "            await google.colab.kernel.invokeFunction('convertToInteractive',\n",
              "                                                     [key], {});\n",
              "          if (!dataTable) return;\n",
              "\n",
              "          const docLinkHtml = 'Like what you see? Visit the ' +\n",
              "            '<a target=\"_blank\" href=https://colab.research.google.com/notebooks/data_table.ipynb>data table notebook</a>'\n",
              "            + ' to learn more about interactive tables.';\n",
              "          element.innerHTML = '';\n",
              "          dataTable['output_type'] = 'display_data';\n",
              "          await google.colab.output.renderOutput(dataTable, element);\n",
              "          const docLink = document.createElement('div');\n",
              "          docLink.innerHTML = docLinkHtml;\n",
              "          element.appendChild(docLink);\n",
              "        }\n",
              "      </script>\n",
              "    </div>\n",
              "  </div>\n",
              "  "
            ]
          },
          "metadata": {},
          "execution_count": 27
        }
      ]
    },
    {
      "cell_type": "markdown",
      "source": [
        "Mean Income - 50456\n",
        "\n",
        "Median income - 48081\n",
        "\n",
        "From this we can say that this is a positively skewed column."
      ],
      "metadata": {
        "id": "PwVH2NLS4Ojf"
      }
    },
    {
      "cell_type": "markdown",
      "source": [
        "![Skeweness.jpg](data:image/jpeg;base64,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)"
      ],
      "metadata": {
        "id": "Q6ycx5LG5tRX"
      }
    },
    {
      "cell_type": "markdown",
      "source": [
        "***Method 2:***"
      ],
      "metadata": {
        "id": "uW3zT92e45s8"
      }
    },
    {
      "cell_type": "code",
      "source": [
        "sns.distplot(marketing_df['Income'],hist=True)"
      ],
      "metadata": {
        "colab": {
          "base_uri": "https://localhost:8080/",
          "height": 362
        },
        "id": "BTjX2hKM4NFb",
        "outputId": "4794eae9-1612-46f0-8d46-b6c74d62351b"
      },
      "execution_count": 45,
      "outputs": [
        {
          "output_type": "stream",
          "name": "stderr",
          "text": [
            "/usr/local/lib/python3.7/dist-packages/seaborn/distributions.py:2619: FutureWarning: `distplot` is a deprecated function and will be removed in a future version. Please adapt your code to use either `displot` (a figure-level function with similar flexibility) or `histplot` (an axes-level function for histograms).\n",
            "  warnings.warn(msg, FutureWarning)\n"
          ]
        },
        {
          "output_type": "execute_result",
          "data": {
            "text/plain": [
              "<matplotlib.axes._subplots.AxesSubplot at 0x7f1a18df8c50>"
            ]
          },
          "metadata": {},
          "execution_count": 45
        },
        {
          "output_type": "display_data",
          "data": {
            "text/plain": [
              "<Figure size 432x288 with 1 Axes>"
            ],
            "image/png": "[encoded data removed]"
          },
          "metadata": {
            "needs_background": "light"
          }
        }
      ]
    },
    {
      "cell_type": "markdown",
      "source": [
        "***Method3 :***"
      ],
      "metadata": {
        "id": "yY8fYVcO6RIJ"
      }
    },
    {
      "cell_type": "code",
      "source": [
        "plot=sm.qqplot(marketing_df['Income'], line=\"45\",fit=True)"
      ],
      "metadata": {
        "colab": {
          "base_uri": "https://localhost:8080/",
          "height": 279
        },
        "id": "bdofRWLr5B88",
        "outputId": "2e1bdbf3-80c8-4def-faa4-6ac612514e50"
      },
      "execution_count": 29,
      "outputs": [
        {
          "output_type": "display_data",
          "data": {
            "text/plain": [
              "<Figure size 432x288 with 1 Axes>"
            ],
            "image/png": "[encoded data removed]"
          },
          "metadata": {
            "needs_background": "light"
          }
        }
      ]
    },
    {
      "cell_type": "markdown",
      "source": [
        "quantiles are not on reference line, hence column is not normally distributed."
      ],
      "metadata": {
        "id": "aSgH7f-96vSy"
      }
    },
    {
      "cell_type": "markdown",
      "source": [
        "***Method 4:***"
      ],
      "metadata": {
        "id": "GG6W8vvv6eUF"
      }
    },
    {
      "cell_type": "code",
      "source": [
        "plt.figure(figsize=(15,5))\n",
        "sns.boxplot(data=marketing_df,x='Income')"
      ],
      "metadata": {
        "colab": {
          "base_uri": "https://localhost:8080/",
          "height": 351
        },
        "id": "Nkelj8ss6Xm6",
        "outputId": "5f1cfbe6-4a60-431c-a364-b1ac31db6a1a"
      },
      "execution_count": 31,
      "outputs": [
        {
          "output_type": "execute_result",
          "data": {
            "text/plain": [
              "<matplotlib.axes._subplots.AxesSubplot at 0x7f1a18438810>"
            ]
          },
          "metadata": {},
          "execution_count": 31
        },
        {
          "output_type": "display_data",
          "data": {
            "text/plain": [
              "<Figure size 1080x360 with 1 Axes>"
            ],
            "image/png": "[encoded data removed]"
          },
          "metadata": {
            "needs_background": "light"
          }
        }
      ]
    },
    {
      "cell_type": "markdown",
      "source": [
        "Values are not symmetrically spread out around mean, hence not normally distributed.\n"
      ],
      "metadata": {
        "id": "5s168mqy6nur"
      }
    },
    {
      "cell_type": "markdown",
      "source": [
        "***Method 5: Statistical Test method to verify if the column is truly normally distributed or not.***"
      ],
      "metadata": {
        "id": "wd2t_yaf65mc"
      }
    },
    {
      "cell_type": "markdown",
      "source": [
        "***Test 1 :Normal Test***"
      ],
      "metadata": {
        "id": "ZTnk7RAI7BiD"
      }
    },
    {
      "cell_type": "markdown",
      "source": [
        "**Null Hypothesis :** sample data came from a normal distribution (p>0.05)\n",
        "\n",
        "\n",
        "**Alternate Hypothesis :**sample data did not come form a normal distribution (p<0.05)"
      ],
      "metadata": {
        "id": "vzsukAo27BiD"
      }
    },
    {
      "cell_type": "code",
      "source": [
        "chi2,p=stats.normaltest(marketing_df['Income'])"
      ],
      "metadata": {
        "id": "1STgnHGr7Uty"
      },
      "execution_count": 34,
      "outputs": []
    },
    {
      "cell_type": "code",
      "source": [
        "print(p)"
      ],
      "metadata": {
        "colab": {
          "base_uri": "https://localhost:8080/"
        },
        "id": "uWG9_9zd7Ztj",
        "outputId": "9154c8e6-56d2-4ea2-83f5-4600e60142ae"
      },
      "execution_count": 35,
      "outputs": [
        {
          "output_type": "stream",
          "name": "stdout",
          "text": [
            "0.0\n"
          ]
        }
      ]
    },
    {
      "cell_type": "markdown",
      "source": [
        "P value is zero. hence, p<0.05\n",
        "\n",
        "Hence, we accept alternate hypothesis.\n",
        "Sample data did not come from a normal distribution. "
      ],
      "metadata": {
        "id": "MhqE3KhP7gAT"
      }
    },
    {
      "cell_type": "markdown",
      "source": [
        "***Test 2 : Andeson Normality Test***\n",
        "\n",
        "This test checks if sample data came form a specific distribution. Here we are checking if data came from normal distribution."
      ],
      "metadata": {
        "id": "KiGBvmQd8Dbr"
      }
    },
    {
      "cell_type": "markdown",
      "source": [
        "**Null Hypothesis :** sample data came from the selected distribution (p>0.05)\n",
        "\n",
        "\n",
        "**Alternate Hypothesis :**sample data did not come form the selected distribution (p<0.05)"
      ],
      "metadata": {
        "id": "qVmzJEEa8Dbs"
      }
    },
    {
      "cell_type": "code",
      "source": [
        "stats.anderson(marketing_df['Income'],dist='norm')"
      ],
      "metadata": {
        "colab": {
          "base_uri": "https://localhost:8080/"
        },
        "outputId": "c0351ad7-1ce1-45a5-a2f9-dc44b6a71592",
        "id": "TBXqmTms8Dbs"
      },
      "execution_count": 36,
      "outputs": [
        {
          "output_type": "execute_result",
          "data": {
            "text/plain": [
              "AndersonResult(statistic=94.67577589420944, critical_values=array([0.576, 0.656, 0.787, 0.917, 1.091]), significance_level=array([15. , 10. ,  5. ,  2.5,  1. ]))"
            ]
          },
          "metadata": {},
          "execution_count": 36
        }
      ]
    },
    {
      "cell_type": "markdown",
      "source": [
        "For alpha value 0.05,\n",
        "\n",
        "0.0787 !>94.67\n",
        "\n",
        "Hence alternate hypothesis is true.\n",
        "\n",
        "Sample data did not come from the selected distribution."
      ],
      "metadata": {
        "id": "RrNd41xv8IJ0"
      }
    },
    {
      "cell_type": "markdown",
      "source": [
        "###***How do you Transaform a non normal distribution of dependent variable into a normal distribution?***\n",
        "***Using a boxcox transformation***"
      ],
      "metadata": {
        "id": "ER1TYGMw8wdv"
      }
    },
    {
      "cell_type": "code",
      "source": [
        "transformed,Lambda=stats.boxcox(marketing_df['Income'])"
      ],
      "metadata": {
        "id": "CqtRv4_R8Grs"
      },
      "execution_count": 37,
      "outputs": []
    },
    {
      "cell_type": "code",
      "source": [
        "Lambda"
      ],
      "metadata": {
        "colab": {
          "base_uri": "https://localhost:8080/"
        },
        "id": "LMIHY7zd82nc",
        "outputId": "7aa54ae4-da74-48f9-cd00-3baee8bd233a"
      },
      "execution_count": 38,
      "outputs": [
        {
          "output_type": "execute_result",
          "data": {
            "text/plain": [
              "0.44437538279540056"
            ]
          },
          "metadata": {},
          "execution_count": 38
        }
      ]
    },
    {
      "cell_type": "markdown",
      "source": [
        "![ARIMA_Plot_4.jpg](data:image/jpeg;base64,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)"
      ],
      "metadata": {
        "id": "JeveV1sn9G4L"
      }
    },
    {
      "cell_type": "markdown",
      "source": [
        "So, preferred transformation is square root of the whole column"
      ],
      "metadata": {
        "id": "Q1Vb9mFc9JyO"
      }
    },
    {
      "cell_type": "code",
      "source": [
        "plot=sm.qqplot(transformed, line=\"45\",fit=True)"
      ],
      "metadata": {
        "colab": {
          "base_uri": "https://localhost:8080/",
          "height": 279
        },
        "id": "RpzBCxbR9aUH",
        "outputId": "457e1e97-a7f5-452c-9db7-458042181ceb"
      },
      "execution_count": 40,
      "outputs": [
        {
          "output_type": "display_data",
          "data": {
            "text/plain": [
              "<Figure size 432x288 with 1 Axes>"
            ],
            "image/png": "[encoded data removed]"
          },
          "metadata": {
            "needs_background": "light"
          }
        }
      ]
    },
    {
      "cell_type": "code",
      "source": [
        "transformed,Lambda=stats.boxcox(transformed)"
      ],
      "metadata": {
        "id": "iHcmPEMEGsEa"
      },
      "execution_count": 46,
      "outputs": []
    },
    {
      "cell_type": "code",
      "source": [
        "print(f\"new lambda is {Lambda}\")"
      ],
      "metadata": {
        "colab": {
          "base_uri": "https://localhost:8080/"
        },
        "id": "GPBVKuCJGu-S",
        "outputId": "9a6ccfa1-76d8-4b19-e8d2-ed5d3812c56d"
      },
      "execution_count": 47,
      "outputs": [
        {
          "output_type": "stream",
          "name": "stdout",
          "text": [
            "new lambda is 0.9991233642916201\n"
          ]
        }
      ]
    },
    {
      "cell_type": "markdown",
      "source": [
        "Now, no transformation is required"
      ],
      "metadata": {
        "id": "PnvIYvEgG2nM"
      }
    },
    {
      "cell_type": "code",
      "source": [
        ""
      ],
      "metadata": {
        "id": "__Pf3QdjG1Y-"
      },
      "execution_count": null,
      "outputs": []
    }
  ]
}